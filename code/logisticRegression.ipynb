{
 "cells": [
  {
   "cell_type": "markdown",
   "metadata": {},
   "source": [
    "# Supervised Classification and Logistic Regression\n",
    "\n",
    "### Machine Learning as an Optimization problem\n",
    "\n",
    "We will investigate some gradient-based and proximal algorithms on the binary classification problems with logistic regression"
   ]
  },
  {
   "cell_type": "markdown",
   "metadata": {},
   "source": [
    "### Reading the dataset\n",
    "\n",
    "We will use LibSVM formatted data, meaning that each line of the file (i.e. each example) will have the form\n",
    "\n",
    "<tt>class feature_number1:feature_value1 feature_number2:feature_value2 ... feature_number$n_i$:feature_value$n_i$ </tt>\n",
    "\n",
    "You may read such a file using MLUtils's <a href=\"http://spark.apache.org/docs/latest/api/python/pyspark.mllib.html#pyspark.mllib.util.MLUtils.loadLibSVMFile\">`loadLibSVMFile`</a> routine on the supervised classification datasets below.\n",
    "\n",
    "The elements of the produced RDD have the form of <a href=\"https://spark.apache.org/docs/latest/api/python/pyspark.mllib.html#pyspark.mllib.regression.LabeledPoint\">`LabeledPoints`</a> composed of a label `example.label` corresponding to the class (+1 or -1) and a feature vector `example.features` generally encoded as a <a href=\"https://spark.apache.org/docs/latest/api/python/pyspark.mllib.html#pyspark.mllib.linalg.SparseVector\">`SparseVector`</a>.\n",
    "\n"
   ]
  },
  {
   "cell_type": "code",
   "execution_count": 4,
   "metadata": {
    "collapsed": true
   },
   "outputs": [],
   "source": [
    "# set up spark environment (using Spark local mode set to # cores on your machine)\n",
    "from pyspark import SparkContext, SparkConf\n",
    "\n",
    "conf = SparkConf()\n",
    "conf.setMaster(\"local[*]\")\n",
    "conf.setAppName(\"MSIAM part II - Logistic Regression\")\n",
    "\n",
    "sc = SparkContext(conf = conf)"
   ]
  },
  {
   "cell_type": "code",
   "execution_count": 25,
   "metadata": {
    "collapsed": true
   },
   "outputs": [],
   "source": [
    "# path to LibSVM Datasets\n",
    "from __future__ import division\n",
    "LibSVMHomeDir=\"../data/LibSVM/\"\n",
    "# LibSVMHomeDir=\"02/data/LibSVM/\"\n",
    "\n",
    "\n",
    "LibName=\"ionosphere.txt\"             # a small dataset to begin with\n",
    "#LibName=\"rcv1_train.binary\"          # a bigger one "
   ]
  },
  {
   "cell_type": "markdown",
   "metadata": {},
   "source": [
    "> Form an RDD from the selected dataset.\n",
    "\n",
    "> Count the number of examples, features, the number of examples of class '+1' and the density of the dataset."
   ]
  },
  {
   "cell_type": "code",
   "execution_count": 27,
   "metadata": {
    "collapsed": false
   },
   "outputs": [
    {
     "name": "stdout",
     "output_type": "stream",
     "text": [
      "Number of examples : 351\n",
      "Number of features : 34\n",
      "Number of examples of class '+1' : 225\n",
      "Number of examples of class '-1' : 126\n",
      "Number of non-zero features : 10551\n",
      "Density : 0.884112619407\n",
      "Dataset:\n",
      "(1.0,(34,[0,2,3,4,5,6,7,8,9,10,11,12,13,14,15,16,17,18,19,20,21,22,23,24,25,26,27,28,29,30,31,32,33],[1.0,0.99539,-0.05889,0.85243,0.02306,0.83398,-0.37708,1.0,0.0376,0.85243,-0.17755,0.59755,-0.44945,0.60536,-0.38223,0.84356,-0.38542,0.58212,-0.32192,0.56971,-0.29674,0.36946,-0.47357,0.56811,-0.51171,0.41078,-0.46168,0.21266,-0.3409,0.42267,-0.54487,0.18641,-0.453]))\n"
     ]
    }
   ],
   "source": [
    "from pyspark.mllib.util import MLUtils\n",
    "data = MLUtils.loadLibSVMFile(sc, LibSVMHomeDir + LibName).setName(\"LibSVM\")\n",
    "numExamples = data.count()\n",
    "print(\"Number of examples : \" + str(numExamples))\n",
    "\n",
    "numFeatures = (data.first().features.size)\n",
    "print(\"Number of features : \" + str(numFeatures))\n",
    "\n",
    "numPosExamples = data.filter(lambda x : x.label == 1).count()\n",
    "print(\"Number of examples of class '+1' : \" + str(numPosExamples))\n",
    "\n",
    "numNegExamples = data.filter(lambda x : x.label == -1).count()\n",
    "print(\"Number of examples of class '-1' : \" + str(numNegExamples))\n",
    "\n",
    "nonZeroFeatures = data.map(lambda x : x.features.numNonzeros()).sum()\n",
    "print(\"Number of non-zero features : \" + str(nonZeroFeatures))\n",
    "\n",
    "print(\"Density : \" + str(nonZeroFeatures/(numExamples*numFeatures)))\n",
    "\n",
    "print(\"Dataset:\")\n",
    "print(data.first())"
   ]
  },
  {
   "cell_type": "markdown",
   "metadata": {},
   "source": [
    "### Preprocessing\n",
    "\n",
    "An important first step for learning by regression is to preprocess the dataset. This processing usually consists in:\n",
    "* Adding an intercept, that is an additional feature equal to one for all examples (statistically, this accounts for the fact that the two classes may be imbalanced).\n",
    "* For the dense datasets:\n",
    "    *  normalize to have zero-mean and unit variance for every feature (except the interecept for instance.\n",
    "* For sparse datasets:\n",
    "    * normalize so that the feature vector has unit $\\ell_2$ norm for each example.\n",
    "\n",
    "This does not really change the problem but it will ease the convergence of the applied optimization algorithms.\n",
    "\n",
    "\n"
   ]
  },
  {
   "cell_type": "code",
   "execution_count": 28,
   "metadata": {
    "collapsed": false
   },
   "outputs": [
    {
     "name": "stdout",
     "output_type": "stream",
     "text": [
      "Number of examples : 351\n",
      "Number of features : 34\n",
      "Number of non-zero features : 11583\n",
      "Density : 0.970588235294\n",
      "(1.0, DenseVector([0.3479, 0.0, 0.7114, -0.2339, 0.4835, -0.2014, 0.5762, -0.9533, 0.9627, -0.2971, 0.6677, -0.6721, 0.3162, -1.097, 0.4001, -0.9891, 0.7469, -0.7686, 0.3556, -0.5739, 0.3821, -0.5887, 0.0116, -0.789, 0.2973, -0.8663, -0.2535, -0.713, -0.2879, -0.6162, 0.1228, -1.0535, -0.3118, -0.9982]))\n",
      "Now the data has the form:\n",
      "(1.0,[0.347936582539,0.0,0.711356868051,-0.233923299777,0.483517440274,-0.201447401018,0.576236183309,-0.953318232829,0.962699854308,-0.297086123228,0.667701472196,-0.67214779189,0.316221779651,-1.09697653583,0.400106799693,-0.989073611325,0.746918760863,-0.768583755912,0.355647777269,-0.573895241659,0.382098569801,-0.588683865907,0.0115681972685,-0.789002293191,0.297303247943,-0.866328217104,-0.253505647078,-0.712953447706,-0.287878698632,-0.616159183518,0.122761695704,-1.05354994462,-0.311775523591,-0.998169888876,1.0])\n"
     ]
    }
   ],
   "source": [
    "from pyspark.mllib.feature import StandardScaler, StandardScalerModel\n",
    "from pyspark.mllib.linalg import Vectors\n",
    "from pyspark.mllib.regression import LabeledPoint\n",
    "import numpy as np\n",
    "\n",
    "label = data.map(lambda x: x.label)\n",
    "features = data.map(lambda x: x.features)\n",
    "scaler = StandardScaler(withMean=True, withStd=True)\n",
    "\n",
    "normalizedFeatures = scaler.fit(features)\n",
    "\n",
    "normalizedData = label.zip(normalizedFeatures.transform(features.map(lambda x: Vectors.dense(x.toArray()))))\n",
    "\n",
    "numExamples = normalizedData.count()\n",
    "print(\"Number of examples : \" + str(numExamples))\n",
    "\n",
    "numFeatures = (normalizedData.first()[1].size)\n",
    "print(\"Number of features : \" + str(numFeatures))\n",
    "\n",
    "nonZeroFeatures = normalizedData.map(lambda x : x[1].numNonzeros()).sum()\n",
    "print(\"Number of non-zero features : \" + str(nonZeroFeatures))\n",
    "\n",
    "print(\"Density : \" + str(nonZeroFeatures/(numExamples*numFeatures)))\n",
    "\n",
    "print(normalizedData.first())\n",
    "\n",
    "# Add intercept\n",
    "interceptedData = normalizedData.map(lambda x : (x[0], np.append(x[1],np.array([1], float))))\n",
    "\n",
    "preprocessedData = interceptedData.map(lambda x : LabeledPoint(x[0], x[1]))\n",
    "print(\"Now the data has the form:\")\n",
    "print(preprocessedData.first())"
   ]
  },
  {
   "cell_type": "markdown",
   "metadata": {},
   "source": [
    "#  Initialization\n",
    "\n",
    "We will set up here the variables, and the training versus testing dataset. Indeed, we will take a portion of the dataset to learn called the `learning set`, say $95$%, and we will test our predictions on the rest, the `testing set`."
   ]
  },
  {
   "cell_type": "code",
   "execution_count": 29,
   "metadata": {
    "collapsed": false
   },
   "outputs": [
    {
     "name": "stdout",
     "output_type": "stream",
     "text": [
      "Number of examples in training set : 332\n",
      "Number of examples of class '+1' in training set : 212\n",
      "Number of examples of class '-1' in training set : 120\n",
      "Number of examples in testing set : 19\n",
      "Number of examples of class '+1' in testing set : 13\n",
      "Number of examples of class '-1' in testing set : 6\n"
     ]
    }
   ],
   "source": [
    "train_test_split = preprocessedData.randomSplit(weights=[0.95, 0.05],seed=1)\n",
    "trainRDD =   train_test_split[0]\n",
    "testRDD = train_test_split[1]\n",
    "print(\"Number of examples in training set : \" + str(trainRDD.count()))\n",
    "\n",
    "numPosExamples = trainRDD.filter(lambda x : x.label == 1).count()\n",
    "print(\"Number of examples of class '+1' in training set : \" + str(numPosExamples))\n",
    "\n",
    "numNegExamples = trainRDD.filter(lambda x : x.label == -1).count()\n",
    "print(\"Number of examples of class '-1' in training set : \" + str(numNegExamples))\n",
    "\n",
    "print(\"Number of examples in testing set : \" + str(testRDD.count()))\n",
    "\n",
    "numPosExamples = testRDD.filter(lambda x : x.label == 1).count()\n",
    "print(\"Number of examples of class '+1' in testing set : \" + str(numPosExamples))\n",
    "\n",
    "numNegExamples = testRDD.filter(lambda x : x.label == -1).count()\n",
    "print(\"Number of examples of class '-1' in testing set : \" + str(numNegExamples))"
   ]
  },
  {
   "cell_type": "markdown",
   "metadata": {},
   "source": [
    "#  Minimization of the logistic loss with the Gradient algorithm\n",
    "\n",
    "The goal of this section is to: \n",
    "1. Compute gradients of the loss functions.\n",
    "2. Implement a Gradient algorithm.\n",
    "3. Observe the prediction accuracy of the developed methods."
   ]
  },
  {
   "cell_type": "code",
   "execution_count": 12,
   "metadata": {
    "collapsed": true
   },
   "outputs": [],
   "source": [
    "import math\n",
    "def logistic_loss_per_example(example,x):\n",
    "    \"\"\" Computes the logistic loss for a Labeled point\n",
    "    Args:\n",
    "        example: a labeled point\n",
    "        x: regressor\n",
    "    Returns:\n",
    "        real value: l \n",
    "    \"\"\"\n",
    "    loss = math.log(1 + math.exp((-example.label)*(np.dot(example.features,x))))\n",
    "    return loss"
   ]
  },
  {
   "cell_type": "code",
   "execution_count": 30,
   "metadata": {
    "collapsed": false
   },
   "outputs": [],
   "source": [
    "def logistic_grad_per_example(example,x):\n",
    "    \"\"\" Computes the logistic gradient for a Labeled point\n",
    "    Args:\n",
    "        example: a labeled point\n",
    "        x: regressor\n",
    "    Returns:\n",
    "        numpy array: g \n",
    "    \"\"\"\n",
    "    exp = math.exp((example.label)*(np.dot(example.features,x)))\n",
    "    grad = ((-example.label)/((1+exp)))*(example.features) \n",
    "    return grad\n",
    "# x = [0.0 for i in range(numFeatures+1)]\n",
    "# grad = trainRDD.map(lambda train : logistic_grad_per_example(train, x))\n",
    "# print(grad.sum())"
   ]
  },
  {
   "cell_type": "code",
   "execution_count": 31,
   "metadata": {
    "collapsed": true
   },
   "outputs": [],
   "source": [
    "def grad_algo(trainRDD, GAMMA, MAX_ITER):\n",
    "    f_tab = []\n",
    "    x = [0.0 for i in range(numFeatures+1)]\n",
    "    m = trainRDD.count()\n",
    "    for i in range(MAX_ITER):\n",
    "        loss = (1/m)*(trainRDD.map(lambda train : logistic_loss_per_example(train, x)).sum())\n",
    "        f_tab.append(loss)\n",
    "        grad = (1/m)*(trainRDD.map(lambda train : logistic_grad_per_example(train, x)).sum())\n",
    "        x = x - GAMMA*(grad)\n",
    "    f_tab.append((1/m)*(trainRDD.map(lambda train : logistic_loss_per_example(train, x)).sum()))\n",
    "    return x, f_tab"
   ]
  },
  {
   "cell_type": "code",
   "execution_count": 34,
   "metadata": {
    "collapsed": false
   },
   "outputs": [
    {
     "data": {
      "image/png": "[encoded data removed]",
      "text/plain": [
       "<matplotlib.figure.Figure at 0x1063fb7d0>"
      ]
     },
     "metadata": {},
     "output_type": "display_data"
    }
   ],
   "source": [
    "import matplotlib.pyplot as plt\n",
    "%matplotlib inline  \n",
    "MAX_ITER = 50\n",
    "step_size = 0.1\n",
    "x_grad, f_tab = grad_algo(trainRDD, step_size, MAX_ITER)\n",
    "\n",
    "plt.figure()\n",
    "plt.plot(range(MAX_ITER+1), f_tab, marker='o', label='Training Data')\n",
    "plt.xlim(0, MAX_ITER+1)\n",
    "plt.xlabel('Number of iterations')\n",
    "plt.ylabel('Functional value')\n",
    "plt.legend()\n",
    "plt.grid()\n",
    "plt.show()\n",
    "\n"
   ]
  },
  {
   "cell_type": "code",
   "execution_count": 35,
   "metadata": {
    "collapsed": false
   },
   "outputs": [
    {
     "name": "stdout",
     "output_type": "stream",
     "text": [
      "Accuracy on test data : 89%\n"
     ]
    }
   ],
   "source": [
    "def prediction_accuracy(example, x):\n",
    "    predicted_label = -1\n",
    "    if (1/(1 + math.exp(-np.dot(example.features, x)))) > 0.5:\n",
    "        predicted_label = +1\n",
    "    product = predicted_label*example.label\n",
    "    if (product > 0):\n",
    "        return 1\n",
    "    else:\n",
    "        return 0\n",
    "\n",
    "example = LabeledPoint(1.0, [2.0, 3.0])\n",
    "x1 = np.array([0.5, 0.3])\n",
    "#print(prediction_accuracy(example, x1))\n",
    "#print(np.dot(example.features, x1))\n",
    "def accuracy(rdd, x):\n",
    "    accuracy = rdd.map(lambda example : prediction_accuracy(example, x))\n",
    "    print(\"Accuracy on test data : \" + str(int((accuracy.sum())/(accuracy.count())*100)) + \"%\")\n",
    "    \n",
    "accuracy(testRDD, x_grad)\n",
    "\n",
    "# Step size = 0.1 -> accuracy - 89%\n",
    "# Step size = 0.01 -> accuracy - 77%"
   ]
  },
  {
   "cell_type": "markdown",
   "metadata": {},
   "source": [
    "# Regularized logisitic regression\n",
    "\n",
    "In addition to the loss, it is usual to add a regularization term of the form\n",
    "$$ r(x) = \\lambda_1 \\|x\\|_1 + \\lambda_2 \\|x\\|^2_2 $$\n",
    "\n",
    "The first part promotes sparsity of the iterates while the second part prevents over-fitting. \n",
    "This kind of regularization is often called:\n",
    "- *elastic-net* when $ \\lambda_1$ and $ \\lambda_2$ are non-null\n",
    "- $\\ell_1$ when $\\lambda_2 = 0$\n",
    "- *Tikhonov* when $\\lambda_1 = 0$\n",
    "\n",
    "The full optimization problems now writes\n",
    "\\begin{align*}\n",
    "\\min_{x\\in\\mathbb{R}^d } g(x) =  \\frac{1}{m}  \\sum_{i=1}^m  \\log( 1+\\exp(-b_i \\langle a_i,x \\rangle) ) +  \\lambda_1 \\|x\\|_1 + \\lambda_2 \\|x\\|^2_2\n",
    "\\end{align*}\n",
    "\n"
   ]
  },
  {
   "cell_type": "code",
   "execution_count": 41,
   "metadata": {
    "collapsed": true
   },
   "outputs": [],
   "source": [
    "def regularized_logistic_loss_per_example(example, x, lambda1, lambda2):\n",
    "    loss = math.log(1 + math.exp((-example.label)*(np.dot(example.features,x)))) + lambda1*(np.linalg.norm(x,1)) + lambda2*((np.linalg.norm(x))**2)\n",
    "    return loss\n",
    "\n",
    "def regularized_logistic_grad_per_example(example, x, lambda2):\n",
    "    exp = math.exp((example.label)*(np.dot(example.features,x)))\n",
    "    grad = ((-example.label)*(1/(1+exp)))*(example.features) + np.multiply(2.0*lambda2,x)\n",
    "    return grad\n",
    "\n",
    "def n_prox(x, l):\n",
    "    #np.multiply(np.sign(x), np.maximum(np.abs(x)- l,0))  \n",
    "    #return np.array(list(map(lambda x: compare(x,l),x)))\n",
    "    x_abs = np.abs(x)\n",
    "    return np.sign(x) * (x_abs - l) * (x_abs > l)\n",
    "    \n",
    "def prox_enet(x, l_l1, l_l2, t=1.):\n",
    "    \"\"\"Proximal operator for the elastic net at x\"\"\"\n",
    "    x_abs = np.abs(x)\n",
    "    prox_l1 = np.sign(x) * (x_abs - t * l_l1) * (x_abs > t * l_l1)\n",
    "    return prox_l1 / (1. + t * l_l2)\n",
    "\n"
   ]
  },
  {
   "cell_type": "code",
   "execution_count": 42,
   "metadata": {
    "collapsed": true
   },
   "outputs": [],
   "source": [
    "def prox_grad_algo(trainRDD, gamma, max_iter, lambda1, lambda2):\n",
    "    f_tab = []\n",
    "    mu, sigma = 0, 1\n",
    "    x = np.random.normal(mu, sigma, numFeatures+1)#[0.0 for i in range(numFeatures+1)]\n",
    "    m = trainRDD.count()\n",
    "    print(x)\n",
    "    for i in range(max_iter):\n",
    "        #loss = (1/m)*(trainRDD.map(lambda train : regularized_logistic_loss_per_example(train, x, lambda1, lambda2)).sum())\n",
    "        loss = (1/m)*(trainRDD.map(lambda train : logistic_loss_per_example(train, x)).sum())\n",
    "        f_tab.append(loss)\n",
    "        grad = (1/m)*(trainRDD.map(lambda train : regularized_logistic_grad_per_example(train, x, lambda2)).sum())\n",
    "        #grad = (1/m)*(trainRDD.map(lambda train : logistic_grad_per_example(train, x)).sum())\n",
    "        #print(grad)\n",
    "        x = n_prox(x - gamma * grad, 0.0002)\n",
    "        #x = prox_enet(x - gamma * grad, lambda1, lambda2)\n",
    "        #print(x)\n",
    "    #f_tab.append((1/m)*(trainRDD.map(lambda train : regularized_logistic_loss_per_example(train, x, lambda1, lambda2)).sum()))\n",
    "    f_tab.append((1/m)*(trainRDD.map(lambda train : logistic_loss_per_example(train, x)).sum()))\n",
    "    return x, f_tab"
   ]
  },
  {
   "cell_type": "code",
   "execution_count": 39,
   "metadata": {
    "collapsed": false
   },
   "outputs": [
    {
     "name": "stdout",
     "output_type": "stream",
     "text": [
      "33.3583797795\n"
     ]
    }
   ],
   "source": [
    "lipschitz_constant = 0.25 * (trainRDD.map(lambda train : np.linalg.norm(train.features)**2).max())\n",
    "print(lipschitz_constant)"
   ]
  },
  {
   "cell_type": "code",
   "execution_count": 43,
   "metadata": {
    "collapsed": false
   },
   "outputs": [
    {
     "name": "stdout",
     "output_type": "stream",
     "text": [
      "gamma : 0.0297988164676\n",
      "[-1.04632576  0.75991129 -0.12028079  0.0707572  -1.69079547  1.03298062\n",
      " -0.15360037  0.42788981 -0.19799121  1.32524835  0.83880368  0.65323466\n",
      "  1.22833202  1.50891749  0.38969403  0.34933743  0.52283749 -1.73935677\n",
      "  0.18154092 -0.13026815  0.47502758  1.09110149  0.92550124 -0.63900135\n",
      " -0.28252043 -1.22144897  0.0518191  -1.8747755   1.68505171 -1.19577679\n",
      "  0.84141994 -1.38568645 -0.52742771 -0.72660182  1.45390201]\n",
      "[ 0.32651667  0.09210529  0.31554394  0.14792441  0.15403286  0.25295\n",
      "  0.21320807  0.25187049  0.09693721  0.17074336  0.07330102  0.12850392\n",
      "  0.10738427  0.2385963   0.06220926  0.07636354 -0.01240631  0.01846594\n",
      "  0.03566423  0.00213562  0.14482988 -0.12171668  0.18626376  0.\n",
      "  0.04238931  0.04228171 -0.2228986  -0.06191892  0.19188307 -0.0021081\n",
      "  0.16473974 -0.06681393 -0.06519743 -0.15760156  0.33892757]\n"
     ]
    },
    {
     "data": {
      "image/png": "[encoded data removed]",
      "text/plain": [
       "<matplotlib.figure.Figure at 0x104a8b590>"
      ]
     },
     "metadata": {},
     "output_type": "display_data"
    }
   ],
   "source": [
    "import matplotlib.pyplot as plt\n",
    "%matplotlib inline  \n",
    "\n",
    "lambda1 = 0.1\n",
    "lambda2 = 0.1\n",
    "L_b = lipschitz_constant + 2*lambda1\n",
    "gamma = 1/L_b\n",
    "print(\"gamma : \" + str(gamma))\n",
    "max_iter = 100\n",
    "step_size = 0.1\n",
    "\n",
    "x, f_tab = prox_grad_algo(trainRDD, step_size, max_iter, lambda1, lambda2)\n",
    "print(x)\n",
    "plt.figure()\n",
    "plt.plot(range(max_iter+1), f_tab, marker='o', label='Training Data')\n",
    "plt.xlim(0, max_iter+1)\n",
    "plt.xlabel('Number of iterations')\n",
    "plt.ylabel('Functional value')\n",
    "plt.legend()\n",
    "plt.grid()\n",
    "plt.show()"
   ]
  },
  {
   "cell_type": "code",
   "execution_count": 45,
   "metadata": {
    "collapsed": false
   },
   "outputs": [
    {
     "name": "stdout",
     "output_type": "stream",
     "text": [
      "Accuracy on training data : 88.8554216867\n"
     ]
    }
   ],
   "source": [
    "def prediction_accuracy(example, x):\n",
    "    predicted_label = -1\n",
    "    if (1/(1 + math.exp(-np.dot(example.features, x)))) > 0.5:\n",
    "        predicted_label = +1\n",
    "    product = predicted_label*example.label\n",
    "    if (product > 0):\n",
    "        return 1\n",
    "    else:\n",
    "        return 0\n",
    "\n",
    "# example = LabeledPoint(1.0, [2.0, 3.0])\n",
    "# x1 = np.array([0.5, 0.3])\n",
    "#print(prediction_accuracy(example, x1))\n",
    "#print(np.dot(example.features, x1))\n",
    "def accuracy(rdd, x):\n",
    "    accuracy = rdd.map(lambda example : prediction_accuracy(example, x))\n",
    "    print(\"Accuracy on training data : \" + str(((accuracy.sum())/(accuracy.count()))*100))\n",
    "    \n",
    "accuracy(trainRDD, x)\n",
    "\n",
    "# Accuracy 89.6 lambda1 0.0 lambda2 0.2 stepSize 0.1 iterations 100\n",
    "# Accuracy 86.3 lambda1 0.0 lambda2 0.2 stepSize 0.1 iterations 100\n",
    "# Accuracy 81.1 lambda1 1.0 lambda2 0.0 stepSize 0.1 iterations 100\n",
    "# Accuracy 88.4 lambda1 0.5 lambda2 0.5 stepSize 0.1 iterations 100\n",
    "# Accuracy 89.3 lambda1 0.1 lambda2 0.1 stepSize 0.1 iterations 100"
   ]
  },
  {
   "cell_type": "code",
   "execution_count": 46,
   "metadata": {
    "collapsed": false
   },
   "outputs": [
    {
     "name": "stdout",
     "output_type": "stream",
     "text": [
      "gamma : 0.0297988164676\n",
      "[0.0, 0.0, 0.0, 0.0, 0.0, 0.0, 0.0, 0.0, 0.0, 0.0, 0.0, 0.0, 0.0, 0.0, 0.0, 0.0, 0.0, 0.0, 0.0, 0.0, 0.0, 0.0, 0.0, 0.0, 0.0, 0.0, 0.0, 0.0, 0.0, 0.0, 0.0, 0.0, 0.0, 0.0, 0.0]\n",
      "[  2.25635335e+00   0.00000000e+00   9.29238225e-01   2.78034271e-01\n",
      "   1.06788404e+00   7.87711887e-01   5.90952420e-01   1.00773205e+00\n",
      "   3.88982129e-01   3.28444659e-01  -4.50583558e-01   2.23144087e-02\n",
      "  -1.63775368e-01   3.97693873e-01   2.31246389e-01  -5.30046474e-01\n",
      "  -6.99065016e-04   7.39492491e-01  -2.12581868e-01   1.48452835e-01\n",
      "   2.86877697e-01  -1.48996782e+00   8.37911375e-01   3.21256468e-01\n",
      "   7.84240185e-01   4.72512257e-01  -1.51674006e+00   1.76678607e-03\n",
      "   2.35702387e-01   7.79520424e-01   8.38097287e-01  -2.75347197e-01\n",
      "  -3.78737225e-01  -1.02225989e+00   1.92672880e-01]\n"
     ]
    },
    {
     "data": {
      "image/png": "[encoded data removed]",
      "text/plain": [
       "<matplotlib.figure.Figure at 0x106b44210>"
      ]
     },
     "metadata": {},
     "output_type": "display_data"
    }
   ],
   "source": [
    "def soft_threshod(w,mu):\n",
    "    return np.multiply(np.sign(w), np.maximum(np.abs(w)- mu,0))  \n",
    "\n",
    "def fista_algo(trainRDD, gamma, max_iter, lambda1, lambda2):\n",
    "    f_tab = []\n",
    "    mu, sigma = 0, 1\n",
    "    w = [0.0 for i in range(numFeatures+1)]\n",
    "    v = w\n",
    "    m = trainRDD.count()\n",
    "    print(v)\n",
    "    t = 0.0\n",
    "    for i in range(0, max_iter):\n",
    "        #loss = (1/m)*(trainRDD.map(lambda train : regularized_logistic_loss_per_example(train, w, lambda1, lambda2)).sum())\n",
    "        loss = (1/m)*(trainRDD.map(lambda train : logistic_loss_per_example(train, w)).sum())\n",
    "        f_tab.append(loss)\n",
    "        w_prev = w\n",
    "        #grad = (1/m)*(trainRDD.map(lambda train : regularized_logistic_grad_per_example(train, v, lambda2)).sum())\n",
    "        grad = (1/m)*(trainRDD.map(lambda train : logistic_grad_per_example(train, v)).sum())        \n",
    "        #print(grad)\n",
    "        #t_new = (1 + math.sqrt(1+4*(t**2)))/2\n",
    "        #alpha = (t-1)/t_new\n",
    "        #t = t_new\n",
    "        w = v - gamma * grad\n",
    "        w = soft_threshod(w,0.001 * gamma)\n",
    "        v = w + (i/(i+3)) * (w - w_prev)\n",
    "\n",
    "    #f_tab.append((1/m)*(trainRDD.map(lambda train : regularized_logistic_loss_per_example(train, v, lambda1, lambda2)).sum()))\n",
    "    f_tab.append((1/m)*(trainRDD.map(lambda train : logistic_loss_per_example(train, v)).sum()))\n",
    "    return v, f_tab\n",
    "\n",
    "import matplotlib.pyplot as plt\n",
    "%matplotlib inline  \n",
    "\n",
    "lambda1 = 0.1\n",
    "lambda2 = 0.0\n",
    "L_b = lipschitz_constant + 2*lambda1\n",
    "gamma = 1/L_b\n",
    "print(\"gamma : \" + str(gamma))\n",
    "max_iter = 100\n",
    "step_size = 0.1\n",
    "\n",
    "x, f_tab = fista_algo(trainRDD, step_size, max_iter, lambda1, lambda2)\n",
    "print(x)\n",
    "plt.figure()\n",
    "plt.plot(range(max_iter+1), f_tab, marker='o', label='Training Data')\n",
    "plt.xlim(0, max_iter+1)\n",
    "plt.xlabel('Number of iterations')\n",
    "plt.ylabel('Functional value')\n",
    "plt.legend()\n",
    "plt.grid()\n",
    "plt.show()"
   ]
  },
  {
   "cell_type": "markdown",
   "metadata": {},
   "source": [
    "<small><i>Examples taken from the course [Convex and Distributed Optimization](http://www.iutzeler.org/CDO/) (2016).</i></small>"
   ]
  }
 ],
 "metadata": {
  "kernelspec": {
   "display_name": "Python 2",
   "language": "python",
   "name": "python2"
  },
  "language_info": {
   "codemirror_mode": {
    "name": "ipython",
    "version": 2
   },
   "file_extension": ".py",
   "mimetype": "text/x-python",
   "name": "python",
   "nbconvert_exporter": "python",
   "pygments_lexer": "ipython2",
   "version": "2.7.10"
  }
 },
 "nbformat": 4,
 "nbformat_minor": 1
}
